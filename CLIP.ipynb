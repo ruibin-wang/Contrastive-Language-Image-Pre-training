! pip install ftfy regex tqdm
! pip install git+https://github.com/openai/CLIP.git

import numpy as np
import torch
import clip
from PIL import Image

device = "cuda" if torch.cuda.is_available() else "cpu"
model, preprocess = clip.load("ViT-B/32", device=device)



image = preprocess(Image.open("220px-Queen_Elizabeth_II_of_New_Zealand.jpg")).unsqueeze(0).to(device)
text = clip.tokenize(["white dress", "woman", "lady", "old lady", "queen", "British"]).to(device)


with torch.no_grad():
  image_features = model.encode_image(image)
  text_feature = model.encode_text(text)

  logits_per_image, logits_per_text = model(image, text)
  probs = logits_per_image.softmax(dim=-1).cpu().numpy()


print("Label probes:", probs)